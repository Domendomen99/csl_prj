{
 "cells": [
  {
   "cell_type": "code",
   "execution_count": 2,
   "metadata": {},
   "outputs": [],
   "source": [
    "import numpy as np\n",
    "import matplotlib.pyplot as plt\n",
    "import sklearn\n",
    "from skimage import data\n",
    "from skimage.color import rgb2gray\n",
    "from keras.datasets import cifar10\n",
    "from sklearn.model_selection import train_test_split\n",
    "from skimage.feature import hog\n",
    "from skimage import data, exposure\n",
    "import pandas as pd\n",
    "from sklearn.decomposition import PCA\n",
    "from keras.models import Sequential\n",
    "from keras.layers import Dense\n",
    "from keras.utils import to_categorical\n",
    "from keras.optimizers import RMSprop"
   ]
  },
  {
   "cell_type": "code",
   "execution_count": 3,
   "metadata": {},
   "outputs": [],
   "source": [
    "# Caricamento del Dataset\n",
    "classesName = ['plane', 'car', 'bird', 'cat', 'deer', 'dog', 'frog', 'horse', 'ship', 'truck']\n",
    "(x_train, y_train), (x_test, y_test) = cifar10.load_data()"
   ]
  },
  {
   "cell_type": "code",
   "execution_count": 4,
   "metadata": {},
   "outputs": [],
   "source": [
    "# Divisione con insieme di validazione formato dal % del train\n",
    "percentuale = 0.1\n",
    "x_train, x_val, y_train, y_val = train_test_split(x_train, y_train, test_size=percentuale, random_state=1)"
   ]
  },
  {
   "cell_type": "code",
   "execution_count": 5,
   "metadata": {},
   "outputs": [],
   "source": [
    "# Normalizzazione in 0-1\n",
    "x_train = x_train.astype('float32') / 255.0\n",
    "x_test = x_test.astype('float32') / 255.0\n",
    "x_val = x_val.astype('float32') / 255.0"
   ]
  },
  {
   "cell_type": "code",
   "execution_count": 6,
   "metadata": {},
   "outputs": [],
   "source": [
    "######################################################################################\n",
    "###################### -- PANDAS DF -- ###############################################\n",
    "######################################################################################\n",
    "\n",
    "# Riduzione di dimensionalità x train\n",
    "##  print(\" - Creazione Df x train - \")\n",
    "\n",
    "# -1 -> numero righe finali impostato in automatico\n",
    "# 3072 -> numero colonne che deriva da 32*32*3\n",
    "# - in questo modo ogni riga corrisponde a un'immagine e ogni colonna il valore di un pixel in un'unico canale colore\n",
    "x_train_flat = x_train.reshape(-1,3072)\n",
    "\n",
    "# Creazione di una lista di nomi di pixel dal primo all'ultimo che compone un'immagine\n",
    "# - utile in seguito in modo da assegnare nome a colonne del Data Frame Pandas\n",
    "feat_cols = ['pixel'+str(i) for i in range(x_train_flat.shape[1])]\n",
    "\n",
    "# Creazione del dataframe pandas\n",
    "df_cifar = pd.DataFrame(x_train_flat,columns=feat_cols)\n",
    "\n",
    "##  print(\"Shape di df_cifar : \")\n",
    "##  print(df_cifar.shape)\n",
    "##  print(\"\")\n",
    "\n",
    "# Assegnazione delle etichette ai valori nel dataframe\n",
    "df_cifar['label'] = y_train\n",
    "\n",
    "##  print(\"Shape del df_cifar dopo aggiunta etichette : \")\n",
    "##  print(df_cifar.shape)"
   ]
  },
  {
   "cell_type": "code",
   "execution_count": 7,
   "metadata": {},
   "outputs": [],
   "source": [
    "################################################################################\n",
    "\n",
    "# Riduzione di dimensionalità x val\n",
    "##  print(\"Creazione Df x val\")\n",
    "x_val_flat = x_val.reshape(-1,3072)\n",
    "\n",
    "# Creazione di una lista di nomi di pixel dal primo all'ultimo che compone un'immagine\n",
    "feat_cols_val = ['pixel'+str(i) for i in range(x_val_flat.shape[1])]\n",
    "\n",
    "##  print(\"\")\n",
    "\n",
    "# Creazione del dataframe\n",
    "df_cifar_val = pd.DataFrame(x_val_flat,columns=feat_cols_val)\n",
    "##  print(\"Shape del df_cifar_val : \")\n",
    "##  print(df_cifar_val.shape)\n",
    "\n",
    "##  print(\"\")\n",
    "\n",
    "# Assegnazione delle etichette ai valori nel dataframe\n",
    "df_cifar_val['label'] = y_val\n",
    "##  print(\"Shape del df_cifar_val con etichette : \")\n",
    "##  print(df_cifar_val.shape)"
   ]
  },
  {
   "cell_type": "code",
   "execution_count": 8,
   "metadata": {},
   "outputs": [],
   "source": [
    "# Riduzione di dimensionalità x test\n",
    "##  print(\"Creazione Df x test\")\n",
    "\n",
    "x_test_flat = x_test.reshape(-1,3072)\n",
    "\n",
    "# Creazione di una lista di nomi di pixel dal primo all'ultimo che compone un'immagine\n",
    "feat_cols_test = ['pixel'+str(i) for i in range(x_test_flat.shape[1])]\n",
    "\n",
    "##  print(\"\")\n",
    "\n",
    "# Creazione del dataframe\n",
    "df_cifar_test = pd.DataFrame(x_test_flat,columns=feat_cols_test)\n",
    "##  print(\"Shape di df_cifar_test : \")\n",
    "##  print(df_cifar_test.shape)\n",
    "\n",
    "##  print(\"\")\n",
    "\n",
    "# Assegnazione delle etichette ai valori nel dataframe\n",
    "df_cifar_test['label'] = y_test\n",
    "##  print(\"Shape del df_cifar_test con etichette : \")\n",
    "##  print(df_cifar_test.shape)"
   ]
  },
  {
   "cell_type": "code",
   "execution_count": 9,
   "metadata": {},
   "outputs": [
    {
     "name": "stdout",
     "output_type": "stream",
     "text": [
      "\n",
      " Numero caratteristiche individuate :  99\n"
     ]
    }
   ],
   "source": [
    "################################################################################\n",
    "\n",
    "# Utilizzo di PCA su TRAIN\n",
    "\n",
    "# n_components è il numero di componenti che vogliamo valutare come obiettivo\n",
    "pca_train = PCA(0.9)\n",
    "\n",
    "# Estrazione di tutti i dati tranne ultima colonna che contiene le etichette\n",
    "# - principalComponents_cifar è il risultato della riduzione di dimensionalità\n",
    "principalComponents_cifar = pca_train.fit_transform(df_cifar.iloc[:,:-1])\n",
    "\n",
    "print(\"\\n Numero caratteristiche individuate : \",pca_train.n_components_)\n",
    "\n",
    "\n",
    "################################################################################\n",
    "\n",
    "# Utilizzo di PCA su TEST\n",
    "\n",
    "pca_test = PCA(pca_train.n_components_)\n",
    "\n",
    "\n",
    "# Estrazione di tutti i dati tranne ultima colonna che contiene le etichette\n",
    "# - principalComponents_cifar è il risultato della riduzione di dimensionalità\n",
    "principalComponents_cifar_test = pca_test.fit_transform(df_cifar_test.iloc[:,:-1])\n",
    "\n",
    "################################################################################\n",
    "\n",
    "# Utilizzo di PCA su VAL\n",
    "\n",
    "pca_val = PCA(pca_train.n_components_)\n",
    "\n",
    "\n",
    "# Estrazione di tutti i dati tranne ultima colonna che contiene le etichette\n",
    "# - principalComponents_cifar è il risultato della riduzione di dimensionalità\n",
    "principalComponents_cifar_val = pca_val.fit_transform(df_cifar_val.iloc[:,:-1])"
   ]
  },
  {
   "cell_type": "code",
   "execution_count": 10,
   "metadata": {},
   "outputs": [],
   "source": [
    "################################################################################\n",
    "\n",
    "##  print(\"Assegnazione nome colonne a DF ottenuto x TRAIN\")\n",
    "\n",
    "# DF = Data Frame\n",
    "\n",
    "# Creazione di nuovo data frame\n",
    "# - partendo da quello appena ottenuto\n",
    "# - vengono aggiunti i nomi dei valori contenuti\n",
    "pca_cifar_Df = pd.DataFrame(data = principalComponents_cifar)\n",
    "\n",
    "##  print(\"\")\n",
    "\n",
    "# Aggiunta della colonna con le etichette dei dati relativi\n",
    "# - Lo faccio in una copia del dataframe così da averne uno senza etichette\n",
    "##  print(\"Creazione dataframe con etichette come ultima colonna\")\n",
    "pca_cifar_Df_con_etichette = pca_cifar_Df.copy()\n",
    "pca_cifar_Df_con_etichette['y'] = y_train\n",
    "\n",
    "##  print(\"\")\n",
    "\n",
    "# - STAMPE DI SERVIZIO - # \n",
    "# Stampa del nuovo DF\n",
    "#print(\"Shape del DF risultato :\")\n",
    "#print(principal_cifar_Df.shape)\n",
    "\n",
    "#print(\"\")\n",
    "\n",
    "# Stampa delle prime righe del DF\n",
    "#print(\"Head di principal_cifar_Df : \")\n",
    "#principal_cifar_Df.head()\n",
    "\n",
    "#print(\"Shape del DF_etichettato risultato :\")\n",
    "#print(principal_cifar_Df_con_etichette.shape)\n",
    "\n",
    "#print(\"\")\n",
    "\n",
    "# Stampa delle prime righe del DF\n",
    "#print(\"Head di principal_cifar_Df_etichettato : \")\n",
    "#principal_cifar_Df_con_etichette.head()"
   ]
  },
  {
   "cell_type": "code",
   "execution_count": 11,
   "metadata": {},
   "outputs": [
    {
     "name": "stdout",
     "output_type": "stream",
     "text": [
      "Assegnazione nome colonne a DF ottenuto x TEST\n",
      "\n",
      "Creazione dataframe con etichette come ultima colonna x test\n"
     ]
    }
   ],
   "source": [
    "################################################################################\n",
    "\n",
    "print(\"Assegnazione nome colonne a DF ottenuto x TEST\")\n",
    "\n",
    "# DF = Data Frame\n",
    "\n",
    "# Creazione di nuovo data frame\n",
    "# - partendo da quello appena ottenuto\n",
    "# - vengono aggiunti i nomi dei valori contenuti\n",
    "pca_cifar_Df_test = pd.DataFrame(data = principalComponents_cifar_test)\n",
    "\n",
    "print(\"\")\n",
    "\n",
    "# Aggiunta della colonna con le etichette dei dati relativi\n",
    "# - Lo faccio in una copia del dataframe così da averne uno senza etichette\n",
    "print(\"Creazione dataframe con etichette come ultima colonna x test\")\n",
    "pca_cifar_Df_con_etichette_test = pca_cifar_Df_test.copy()\n",
    "pca_cifar_Df_con_etichette_test['y'] = y_test\n",
    "\n",
    "# - STAMPE DI SERVIZIO - # \n",
    "# Stampa del nuovo DF_test\n",
    "#print(\"Shape del DF risultato :\")\n",
    "#print(principal_cifar_Df_test.shape)\n",
    "\n",
    "#print(\"\")\n",
    "\n",
    "# Stampa delle prime righe del DF\n",
    "#print(\"Head di principal_cifar_Df : \")\n",
    "#principal_cifar_Df_test.head()\n",
    "\n",
    "# Stampa del nuovo DF\n",
    "#print(\"Shape del Df ottenuto x test :\")\n",
    "#print(principal_cifar_Df_con_etichette_test.shape)\n",
    "\n",
    "#print(\"\")\n",
    "\n",
    "# Stampa delle prime righe del DF\n",
    "#principal_cifar_Df_con_etichette_test.head()"
   ]
  },
  {
   "cell_type": "code",
   "execution_count": 12,
   "metadata": {},
   "outputs": [
    {
     "name": "stdout",
     "output_type": "stream",
     "text": [
      "Assegnazione nome colonne a DF ottenuto x val\n",
      "\n",
      "Creazione dataframe con etichette come ultima colonna x val\n"
     ]
    }
   ],
   "source": [
    "################################################################################\n",
    "\n",
    "print(\"Assegnazione nome colonne a DF ottenuto x val\")\n",
    "\n",
    "# DF = Data Frame\n",
    "\n",
    "# Creazione di nuovo data frame\n",
    "# - partendo da quello appena ottenuto\n",
    "# - vengono aggiunti i nomi dei valori contenuti\n",
    "pca_cifar_Df_val = pd.DataFrame(data = principalComponents_cifar_val)\n",
    "\n",
    "print(\"\")\n",
    "\n",
    "# Aggiunta della colonna con le etichette dei dati relativi\n",
    "# - Lo faccio in una copia del dataframe così da averne uno senza etichette\n",
    "print(\"Creazione dataframe con etichette come ultima colonna x val\")\n",
    "pca_cifar_Df_con_etichette_val = pca_cifar_Df_val.copy()\n",
    "pca_cifar_Df_con_etichette_val['y'] = y_val\n",
    "\n",
    "# - STAMPE DI SERVIZIO - #\n",
    "# Stampa del nuovo DF_val\n",
    "#print(\"Shape del DF risultato :\")\n",
    "#print(principal_cifar_Df_val.shape)\n",
    "\n",
    "#print(\"\")\n",
    "\n",
    "# Stampa delle prime righe del DF\n",
    "#print(\"Head di principal_cifar_Df : \")\n",
    "#principal_cifar_Df_val.head()\n",
    "\n",
    "# Stampa del nuovo DF\n",
    "#print(\"Shape del Df ottenuto x val :\")\n",
    "#print(principal_cifar_Df_con_etichette_val.shape)\n",
    "\n",
    "#print(\"\")\n",
    "\n",
    "# Stampa delle prime righe del DF\n",
    "#principal_cifar_Df_con_etichette_val.head()"
   ]
  },
  {
   "cell_type": "code",
   "execution_count": 13,
   "metadata": {},
   "outputs": [],
   "source": [
    "# - Preparazione dei dataset filtrati\n",
    "\n",
    "# Prova di divisione in due classi\n",
    "primaEtichetta = 4\n",
    "secondaEtichetta = 9\n",
    "\n",
    "df_filtrato_etichettato = pca_cifar_Df_con_etichette[pca_cifar_Df_con_etichette['y'].isin([primaEtichetta,secondaEtichetta])]\n",
    "\n",
    "df_filtrato_etichettato_test = pca_cifar_Df_con_etichette_test[pca_cifar_Df_con_etichette_test['y'].isin([primaEtichetta,secondaEtichetta])]\n",
    "\n",
    "df_filtrato_etichettato_val = pca_cifar_Df_con_etichette_val[pca_cifar_Df_con_etichette_val['y'].isin([primaEtichetta,secondaEtichetta])]"
   ]
  },
  {
   "cell_type": "code",
   "execution_count": 14,
   "metadata": {},
   "outputs": [],
   "source": [
    "# Filtro i dati delle etichette\n",
    "y_train_filtrato = y_train[np.isin(y_train, [primaEtichetta,secondaEtichetta])]\n",
    "y_test_filtrato = y_test[np.isin(y_test, [primaEtichetta,secondaEtichetta])]\n",
    "y_val_filtrato = y_val[np.isin(y_val, [primaEtichetta,secondaEtichetta])]"
   ]
  },
  {
   "cell_type": "code",
   "execution_count": 15,
   "metadata": {},
   "outputs": [],
   "source": [
    "# Eliminazione colonna etichette\n",
    "df_filtrato = df_filtrato_etichettato.copy()\n",
    "df_filtrato = df_filtrato.drop(columns=['y'])\n",
    "\n",
    "# Eliminazione colonna etichette\n",
    "df_filtrato_test = df_filtrato_etichettato_test.copy()\n",
    "df_filtrato_test = df_filtrato_test.drop(columns=['y'])\n",
    "\n",
    "# Eliminazione colonna etichette\n",
    "df_filtrato_val = df_filtrato_etichettato_val.copy()\n",
    "df_filtrato_val = df_filtrato_val.drop(columns=['y'])"
   ]
  },
  {
   "cell_type": "code",
   "execution_count": 42,
   "metadata": {},
   "outputs": [
    {
     "name": "stdout",
     "output_type": "stream",
     "text": [
      "\n",
      " - TRAIN - \n",
      "Epoch 1/20\n"
     ]
    },
    {
     "name": "stderr",
     "output_type": "stream",
     "text": [
      "c:\\Users\\domen\\Desktop\\prova\\.venv\\lib\\site-packages\\keras\\src\\layers\\core\\dense.py:87: UserWarning: Do not pass an `input_shape`/`input_dim` argument to a layer. When using Sequential models, prefer using an `Input(shape)` object as the first layer in the model instead.\n",
      "  super().__init__(activity_regularizer=activity_regularizer, **kwargs)\n"
     ]
    },
    {
     "name": "stdout",
     "output_type": "stream",
     "text": [
      "\u001b[1m140/140\u001b[0m \u001b[32m━━━━━━━━━━━━━━━━━━━━\u001b[0m\u001b[37m\u001b[0m \u001b[1m1s\u001b[0m 4ms/step - accuracy: 0.8098 - loss: 0.4745 - val_accuracy: 0.8202 - val_loss: 0.4307\n",
      "Epoch 2/20\n",
      "\u001b[1m140/140\u001b[0m \u001b[32m━━━━━━━━━━━━━━━━━━━━\u001b[0m\u001b[37m\u001b[0m \u001b[1m0s\u001b[0m 3ms/step - accuracy: 0.9054 - loss: 0.2385 - val_accuracy: 0.8077 - val_loss: 0.4774\n",
      "Epoch 3/20\n",
      "\u001b[1m140/140\u001b[0m \u001b[32m━━━━━━━━━━━━━━━━━━━━\u001b[0m\u001b[37m\u001b[0m \u001b[1m1s\u001b[0m 4ms/step - accuracy: 0.9385 - loss: 0.1599 - val_accuracy: 0.7942 - val_loss: 0.5721\n",
      "Epoch 4/20\n",
      "\u001b[1m140/140\u001b[0m \u001b[32m━━━━━━━━━━━━━━━━━━━━\u001b[0m\u001b[37m\u001b[0m \u001b[1m0s\u001b[0m 3ms/step - accuracy: 0.9610 - loss: 0.1122 - val_accuracy: 0.8038 - val_loss: 0.6170\n",
      "Epoch 5/20\n",
      "\u001b[1m140/140\u001b[0m \u001b[32m━━━━━━━━━━━━━━━━━━━━\u001b[0m\u001b[37m\u001b[0m \u001b[1m0s\u001b[0m 3ms/step - accuracy: 0.9696 - loss: 0.0799 - val_accuracy: 0.8125 - val_loss: 0.7055\n",
      "\n",
      " - VALUTAZIONE SU TEST - \n",
      "63/63 - 0s - 1ms/step - accuracy: 0.8190 - loss: 0.7320\n",
      "\n",
      " - GRAFICO Train e Validation - \n"
     ]
    },
    {
     "data": {
      "text/plain": [
       "<matplotlib.legend.Legend at 0x202f4b14c40>"
      ]
     },
     "execution_count": 42,
     "metadata": {},
     "output_type": "execute_result"
    },
    {
     "data": {
      "image/png": "[encoded data removed]",
      "text/plain": [
       "<Figure size 640x480 with 1 Axes>"
      ]
     },
     "metadata": {},
     "output_type": "display_data"
    }
   ],
   "source": [
    "from tensorflow.keras import Sequential\n",
    "from tensorflow.keras.layers import Dense, Dropout\n",
    "from tensorflow.keras.optimizers import Adam\n",
    "from tensorflow.keras.callbacks import EarlyStopping\n",
    "\n",
    "# Numero di classi da classificare\n",
    "num_classes = 10\n",
    "\n",
    "# Vettore delle etichette creato come vettore one-shot\n",
    "y_train = to_categorical(y_train_filtrato,num_classes)\n",
    "y_test = to_categorical(y_test_filtrato,num_classes)\n",
    "y_val = to_categorical(y_val_filtrato,num_classes)\n",
    "\n",
    "# Numero di elementi da utilizzare per aggiornamento pesi\n",
    "batch_size = 64 #512 #128\n",
    "\n",
    "# Epoche su cui basare l'apprendimento\n",
    "epochs = 20 #20 #100\n",
    "\n",
    "# Definizione degli strati della rete\n",
    "model = Sequential()\n",
    "model.add(Dense(1024, activation='relu', input_shape=(pca_train.n_components_,)))\n",
    "model.add(Dense(512, activation='relu'))\n",
    "model.add(Dense(256, activation='relu'))\n",
    "model.add(Dense(128, activation='relu'))\n",
    "model.add(Dense(num_classes, activation='softmax'))\n",
    "\n",
    "# Assemblaggio del modello\n",
    "model.compile(loss='categorical_crossentropy', optimizer=Adam(learning_rate=0.001), metrics=['accuracy'])\n",
    "\n",
    "# Creazione callback x earlystopping \n",
    "callback = EarlyStopping(monitor='val_loss', patience=4)\n",
    "\n",
    "# Esecuzione allenamento e calcolo affidabilità\n",
    "print(\"\\n - TRAIN - \")\n",
    "history = model.fit(df_filtrato, y_train,batch_size=batch_size,epochs=epochs,verbose=1, validation_data=(df_filtrato_val, y_val), callbacks=[callback])\n",
    "\n",
    "print(\"\\n - VALUTAZIONE SU TEST - \")\n",
    "test_loss, test_acc = model.evaluate(df_filtrato_test,  y_test, verbose=2)\n",
    "\n",
    "print(\"\\n - GRAFICO Train e Validation - \")\n",
    "plt.plot(history.history['accuracy'], label='accuracy')\n",
    "plt.plot(history.history['val_accuracy'], label = 'val_accuracy')\n",
    "plt.xlabel('Epoch')\n",
    "plt.ylabel('Accuracy')\n",
    "plt.ylim([0.5, 1])\n",
    "plt.legend(loc='lower right')"
   ]
  }
 ],
 "metadata": {
  "kernelspec": {
   "display_name": ".venv",
   "language": "python",
   "name": "python3"
  },
  "language_info": {
   "codemirror_mode": {
    "name": "ipython",
    "version": 3
   },
   "file_extension": ".py",
   "mimetype": "text/x-python",
   "name": "python",
   "nbconvert_exporter": "python",
   "pygments_lexer": "ipython3",
   "version": "3.10.11"
  }
 },
 "nbformat": 4,
 "nbformat_minor": 2
}
