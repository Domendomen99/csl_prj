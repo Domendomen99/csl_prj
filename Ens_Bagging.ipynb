{
 "cells": [
  {
   "cell_type": "code",
   "execution_count": 1,
   "metadata": {},
   "outputs": [],
   "source": [
    "import numpy as np\n",
    "import matplotlib.pyplot as plt\n",
    "import sklearn\n",
    "from skimage import data\n",
    "from skimage.color import rgb2gray\n",
    "from keras.datasets import cifar10\n",
    "from sklearn.model_selection import train_test_split\n",
    "from skimage.feature import hog\n",
    "from skimage import data, exposure\n",
    "import pandas as pd\n",
    "from sklearn.decomposition import PCA\n",
    "from keras.models import Sequential\n",
    "from keras.layers import Dense\n",
    "from keras.utils import to_categorical\n",
    "from keras.optimizers import RMSprop"
   ]
  },
  {
   "cell_type": "code",
   "execution_count": 2,
   "metadata": {},
   "outputs": [],
   "source": [
    "# Caricamento del Dataset\n",
    "classesName = ['plane', 'car', 'bird', 'cat', 'deer', 'dog', 'frog', 'horse', 'ship', 'truck']\n",
    "(x_train, y_train), (x_test, y_test) = cifar10.load_data()"
   ]
  },
  {
   "cell_type": "code",
   "execution_count": 3,
   "metadata": {},
   "outputs": [],
   "source": [
    "# Divisione con insieme di validazione formato dal % del train\n",
    "percentuale = 0.1\n",
    "x_train, x_val, y_train, y_val = train_test_split(x_train, y_train, test_size=percentuale, random_state=1)"
   ]
  },
  {
   "cell_type": "code",
   "execution_count": 4,
   "metadata": {},
   "outputs": [],
   "source": [
    "# Normalizzazione in 0-1\n",
    "x_train = x_train.astype('float32') / 255.0\n",
    "x_test = x_test.astype('float32') / 255.0\n",
    "x_val = x_val.astype('float32') / 255.0"
   ]
  },
  {
   "cell_type": "code",
   "execution_count": 5,
   "metadata": {},
   "outputs": [],
   "source": [
    "######################################################################################\n",
    "###################### -- PANDAS DF -- ###############################################\n",
    "######################################################################################\n",
    "\n",
    "# Riduzione di dimensionalità x train\n",
    "##  print(\" - Creazione Df x train - \")\n",
    "\n",
    "# -1 -> numero righe finali impostato in automatico\n",
    "# 3072 -> numero colonne che deriva da 32*32*3\n",
    "# - in questo modo ogni riga corrisponde a un'immagine e ogni colonna il valore di un pixel in un'unico canale colore\n",
    "x_train_flat = x_train.reshape(-1,3072)\n",
    "\n",
    "# Creazione di una lista di nomi di pixel dal primo all'ultimo che compone un'immagine\n",
    "# - utile in seguito in modo da assegnare nome a colonne del Data Frame Pandas\n",
    "feat_cols = ['pixel'+str(i) for i in range(x_train_flat.shape[1])]\n",
    "\n",
    "# Creazione del dataframe pandas\n",
    "df_cifar = pd.DataFrame(x_train_flat,columns=feat_cols)\n",
    "\n",
    "##  print(\"Shape di df_cifar : \")\n",
    "##  print(df_cifar.shape)\n",
    "##  print(\"\")\n",
    "\n",
    "# Assegnazione delle etichette ai valori nel dataframe\n",
    "df_cifar['label'] = y_train\n",
    "\n",
    "##  print(\"Shape del df_cifar dopo aggiunta etichette : \")\n",
    "##  print(df_cifar.shape)\n",
    "\n",
    "\n",
    "# Riduzione di dimensionalità x val\n",
    "x_val_flat = x_val.reshape(-1,3072)\n",
    "feat_cols_val = ['pixel'+str(i) for i in range(x_val_flat.shape[1])]\n",
    "df_cifar_val = pd.DataFrame(x_val_flat,columns=feat_cols_val)\n",
    "df_cifar_val['label'] = y_val\n",
    "\n",
    "\n",
    "# Riduzione di dimensionalità x test\n",
    "x_test_flat = x_test.reshape(-1,3072)\n",
    "feat_cols_test = ['pixel'+str(i) for i in range(x_test_flat.shape[1])]\n",
    "df_cifar_test = pd.DataFrame(x_test_flat,columns=feat_cols_test)\n",
    "df_cifar_test['label'] = y_test"
   ]
  },
  {
   "cell_type": "code",
   "execution_count": 6,
   "metadata": {},
   "outputs": [
    {
     "name": "stdout",
     "output_type": "stream",
     "text": [
      "\n",
      " Numero caratteristiche individuate :  99\n"
     ]
    }
   ],
   "source": [
    "################################################################################\n",
    "\n",
    "# Utilizzo di PCA su TRAIN\n",
    "\n",
    "# n_components è il numero di componenti che vogliamo valutare come obiettivo\n",
    "pca_train = PCA(0.9)\n",
    "\n",
    "# Estrazione di tutti i dati tranne ultima colonna che contiene le etichette\n",
    "# - principalComponents_cifar è il risultato della riduzione di dimensionalità\n",
    "principalComponents_cifar = pca_train.fit_transform(df_cifar.iloc[:,:-1])\n",
    "\n",
    "print(\"\\n Numero caratteristiche individuate : \",pca_train.n_components_)\n",
    "\n",
    "################################################################################\n",
    "\n",
    "# Utilizzo di PCA su TEST\n",
    "pca_test = PCA(n_components=pca_train.n_components_)\n",
    "principalComponents_cifar_test = pca_test.fit_transform(df_cifar_test.iloc[:,:-1])\n",
    "\n",
    "################################################################################\n",
    "\n",
    "# Utilizzo di PCA su VAL\n",
    "pca_val = PCA(n_components=pca_train.n_components_)\n",
    "principalComponents_cifar_val = pca_val.fit_transform(df_cifar_val.iloc[:,:-1])"
   ]
  },
  {
   "cell_type": "code",
   "execution_count": 7,
   "metadata": {},
   "outputs": [
    {
     "name": "stdout",
     "output_type": "stream",
     "text": [
      "Assegnazione nome colonne a DF ottenuto x TEST\n",
      "\n",
      "Creazione dataframe con etichette come ultima colonna x test\n",
      "Assegnazione nome colonne a DF ottenuto x val\n",
      "\n",
      "Creazione dataframe con etichette come ultima colonna x val\n"
     ]
    }
   ],
   "source": [
    "################################################################################\n",
    "\n",
    "##  print(\"Assegnazione nome colonne a DF ottenuto x TRAIN\")\n",
    "\n",
    "# DF = Data Frame\n",
    "\n",
    "# Creazione di nuovo data frame\n",
    "# - partendo da quello appena ottenuto\n",
    "# - vengono aggiunti i nomi dei valori contenuti\n",
    "pca_cifar_Df = pd.DataFrame(data = principalComponents_cifar)\n",
    "\n",
    "##  print(\"\")\n",
    "\n",
    "# Aggiunta della colonna con le etichette dei dati relativi\n",
    "# - Lo faccio in una copia del dataframe così da averne uno senza etichette\n",
    "##  print(\"Creazione dataframe con etichette come ultima colonna\")\n",
    "pca_cifar_Df_con_etichette = pca_cifar_Df.copy()\n",
    "pca_cifar_Df_con_etichette['y'] = y_train\n",
    "\n",
    "\n",
    "################################################################################\n",
    "\n",
    "print(\"Assegnazione nome colonne a DF ottenuto x TEST\")\n",
    "pca_cifar_Df_test = pd.DataFrame(data = principalComponents_cifar_test)\n",
    "print(\"\")\n",
    "print(\"Creazione dataframe con etichette come ultima colonna x test\")\n",
    "pca_cifar_Df_con_etichette_test = pca_cifar_Df_test.copy()\n",
    "pca_cifar_Df_con_etichette_test['y'] = y_test\n",
    "\n",
    "################################################################################\n",
    "\n",
    "print(\"Assegnazione nome colonne a DF ottenuto x val\")\n",
    "pca_cifar_Df_val = pd.DataFrame(data = principalComponents_cifar_val)\n",
    "print(\"\")\n",
    "print(\"Creazione dataframe con etichette come ultima colonna x val\")\n",
    "pca_cifar_Df_con_etichette_val = pca_cifar_Df_val.copy()\n",
    "pca_cifar_Df_con_etichette_val['y'] = y_val"
   ]
  },
  {
   "cell_type": "code",
   "execution_count": 8,
   "metadata": {},
   "outputs": [],
   "source": [
    "# - Preparazione dei dataset filtrati\n",
    "\n",
    "# Prova di divisione in due classi\n",
    "primaEtichetta = 4\n",
    "secondaEtichetta = 9\n",
    "\n",
    "df_filtrato_etichettato = pca_cifar_Df_con_etichette[pca_cifar_Df_con_etichette['y'].isin([primaEtichetta,secondaEtichetta])]\n",
    "df_filtrato_etichettato_test = pca_cifar_Df_con_etichette_test[pca_cifar_Df_con_etichette_test['y'].isin([primaEtichetta,secondaEtichetta])]\n",
    "df_filtrato_etichettato_val = pca_cifar_Df_con_etichette_val[pca_cifar_Df_con_etichette_val['y'].isin([primaEtichetta,secondaEtichetta])]\n",
    "\n",
    "# Filtro i dati delle etichette\n",
    "y_train_filtrato = y_train[np.isin(y_train, [primaEtichetta,secondaEtichetta])]\n",
    "y_test_filtrato = y_test[np.isin(y_test, [primaEtichetta,secondaEtichetta])]\n",
    "y_val_filtrato = y_val[np.isin(y_val, [primaEtichetta,secondaEtichetta])]\n",
    "\n",
    "# Eliminazione colonna etichette\n",
    "df_filtrato = df_filtrato_etichettato.copy()\n",
    "df_filtrato = df_filtrato.drop(columns=['y'])\n",
    "\n",
    "# Eliminazione colonna etichette\n",
    "df_filtrato_test = df_filtrato_etichettato_test.copy()\n",
    "df_filtrato_test = df_filtrato_test.drop(columns=['y'])\n",
    "\n",
    "# Eliminazione colonna etichette\n",
    "df_filtrato_val = df_filtrato_etichettato_val.copy()\n",
    "df_filtrato_val = df_filtrato_val.drop(columns=['y'])"
   ]
  },
  {
   "cell_type": "code",
   "execution_count": 9,
   "metadata": {},
   "outputs": [
    {
     "name": "stdout",
     "output_type": "stream",
     "text": [
      "Score BAGGING :  0.8175\n"
     ]
    }
   ],
   "source": [
    "# CLASSIFICAZIONE con Random Forest su set filtrato\n",
    "# -> Parametri migliori\n",
    "\n",
    "from sklearn.svm import SVC\n",
    "from sklearn.ensemble import BaggingClassifier\n",
    "\n",
    "clf = BaggingClassifier(estimator=SVC(), n_estimators=4, max_samples=30, max_features=1.0, bootstrap=True, bootstrap_features=False, oob_score=False, warm_start=False, n_jobs=-1, random_state=0, verbose=0)\n",
    "##  clf = BaggingClassifier(estimator=SVC(), n_estimators=10, random_state=0)\n",
    "\n",
    "clf.fit(df_filtrato, y_train_filtrato)\n",
    "\n",
    "print(\"Score BAGGING : \" , clf.score(df_filtrato_test,y_test_filtrato))"
   ]
  },
  {
   "cell_type": "code",
   "execution_count": 10,
   "metadata": {},
   "outputs": [],
   "source": [
    "##########################################################################################################################################"
   ]
  },
  {
   "cell_type": "code",
   "execution_count": 11,
   "metadata": {},
   "outputs": [
    {
     "name": "stdout",
     "output_type": "stream",
     "text": [
      "\n",
      "Test Score Bagging  10  :  0.584\n",
      "Train Score Bagging  10  :  0.6091517857142857\n",
      "\n",
      "Test Score Bagging  20  :  0.759\n",
      "Train Score Bagging  20  :  0.7753348214285715\n",
      "\n",
      "Test Score Bagging  30  :  0.8175\n",
      "Train Score Bagging  30  :  0.8227678571428572\n",
      "\n",
      "Test Score Bagging  40  :  0.8245\n",
      "Train Score Bagging  40  :  0.8303571428571429\n",
      "\n",
      "Test Score Bagging  50  :  0.8245\n",
      "Train Score Bagging  50  :  0.8370535714285714\n",
      "\n",
      "Test Score Bagging  60  :  0.8285\n",
      "Train Score Bagging  60  :  0.8416294642857143\n",
      "\n",
      "Test Score Bagging  70  :  0.8285\n",
      "Train Score Bagging  70  :  0.8377232142857143\n",
      "\n",
      "Test Score Bagging  80  :  0.8335\n",
      "Train Score Bagging  80  :  0.8380580357142857\n",
      "\n",
      "Test Score Bagging  90  :  0.832\n",
      "Train Score Bagging  90  :  0.8426339285714286\n",
      "\n",
      "Test Score Bagging  100  :  0.824\n",
      "Train Score Bagging  100  :  0.8459821428571429\n",
      "[0.584, 0.759, 0.8175, 0.8245, 0.8245, 0.8285, 0.8285, 0.8335, 0.832, 0.824]\n"
     ]
    },
    {
     "data": {
      "image/png": "[encoded data removed]",
      "text/plain": [
       "<Figure size 640x480 with 1 Axes>"
      ]
     },
     "metadata": {},
     "output_type": "display_data"
    }
   ],
   "source": [
    "# CLASSIFICAZIONE con Random Forest su set filtrato\n",
    "\n",
    "prove = [10,20,30,40,50,60,70,80,90,100]\n",
    "\n",
    "risultatiTest = []\n",
    "risultatiTrain = []\n",
    "\n",
    "c=0\n",
    "for i in prove:\n",
    "    clf = BaggingClassifier(estimator=SVC(), n_estimators=4, max_samples=i, max_features=1.0, bootstrap=True, bootstrap_features=False, oob_score=False, warm_start=False, n_jobs=-1, random_state=0, verbose=0)\n",
    "    clf.fit(df_filtrato, y_train_filtrato)\n",
    "    risultatiTest.append(clf.score(df_filtrato_test, y_test_filtrato))\n",
    "    risultatiTrain.append(clf.score(df_filtrato, y_train_filtrato))\n",
    "    print(\"\\nTest Score Bagging \",i,\" : \" , risultatiTest[c])\n",
    "    print(\"Train Score Bagging \",i,\" : \" , risultatiTrain[c])\n",
    "    c = c+1\n",
    "\n",
    "print(risultatiTest)\n",
    "plt.plot(prove,risultatiTest)\n",
    "plt.show()"
   ]
  }
 ],
 "metadata": {
  "kernelspec": {
   "display_name": ".venv",
   "language": "python",
   "name": "python3"
  },
  "language_info": {
   "codemirror_mode": {
    "name": "ipython",
    "version": 3
   },
   "file_extension": ".py",
   "mimetype": "text/x-python",
   "name": "python",
   "nbconvert_exporter": "python",
   "pygments_lexer": "ipython3",
   "version": "3.10.11"
  }
 },
 "nbformat": 4,
 "nbformat_minor": 2
}
